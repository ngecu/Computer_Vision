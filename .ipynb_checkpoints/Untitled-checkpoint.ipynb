{
 "cells": [
  {
   "cell_type": "code",
   "execution_count": null,
   "metadata": {},
   "outputs": [],
   "source": [
    "import numpy as np\n",
    "import cv2\n",
    "\n",
    "from matplotlib import pyplot as plt\n",
    "\n",
    "image = cv2.imread(\"./images/image.JPG\")\n",
    "# Plot a histogram\n",
    "histogram_image = cv2.calcHist([image], [0], None, [256], [0,256])\n",
    "\n",
    "plt.hist(histogram_image.ravel(), 256, [0,256])\n",
    "plt.show()\n",
    "\n",
    "#view color channels\n",
    "color = ['b','g','r']\n",
    "\n",
    "for I, col in enumaerate(color):\n",
    "    hist = cv2.calcHist([image], [i], None, [256], [0,256])\n",
    "    plt.plot(hist, color = col)\n",
    "    plt.xlim([0.256])\n",
    "plt.show ()"
   ]
  },
  {
   "cell_type": "code",
   "execution_count": null,
   "metadata": {},
   "outputs": [],
   "source": []
  },
  {
   "cell_type": "code",
   "execution_count": null,
   "metadata": {},
   "outputs": [],
   "source": []
  }
 ],
 "metadata": {
  "kernelspec": {
   "display_name": "Python 3",
   "language": "python",
   "name": "python3"
  },
  "language_info": {
   "codemirror_mode": {
    "name": "ipython",
    "version": 3
   },
   "file_extension": ".py",
   "mimetype": "text/x-python",
   "name": "python",
   "nbconvert_exporter": "python",
   "pygments_lexer": "ipython3",
   "version": "3.6.9"
  }
 },
 "nbformat": 4,
 "nbformat_minor": 4
}
